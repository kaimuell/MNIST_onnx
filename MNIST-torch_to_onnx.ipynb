{
 "cells": [
  {
   "cell_type": "markdown",
   "id": "ab252602",
   "metadata": {},
   "source": [
    "## Trains a torch based neural network with the MNIST Dataset and exports it to ONNX\n",
    "\n",
    "#### for the used virtualenvironment run (on Linux) or look at ./create_venv_linux.sh"
   ]
  },
  {
   "cell_type": "code",
   "execution_count": 1,
   "id": "64782002",
   "metadata": {},
   "outputs": [],
   "source": [
    "import torch\n",
    "import torch.onnx\n",
    "import torch.nn as nn\n",
    "import torch.nn.functional as F\n",
    "import torch.optim as optim\n",
    "from torchvision import datasets, transforms\n",
    "from torch.optim.lr_scheduler import StepLR\n",
    "import matplotlib\n",
    "import pandas"
   ]
  },
  {
   "cell_type": "markdown",
   "id": "1d03ff0f",
   "metadata": {},
   "source": [
    "### Define Neural Network \n",
    "Based on https://github.com/pytorch/examples/blob/main/mnist/main.py"
   ]
  },
  {
   "cell_type": "code",
   "execution_count": 2,
   "id": "6ce22151",
   "metadata": {},
   "outputs": [],
   "source": [
    "class Net(nn.Module):\n",
    "    \n",
    "    def __init__(self):\n",
    "        super(Net, self).__init__()\n",
    "        self.conv1 = nn.Conv2d(1, 32, 3, 1)\n",
    "        self.conv2 = nn.Conv2d(32, 64, 3, 1)\n",
    "        self.dropout1 = nn.Dropout(0.25)\n",
    "        self.dropout2 = nn.Dropout(0.5)\n",
    "        self.fc1 = nn.Linear(9216, 128)\n",
    "        self.fc2 = nn.Linear(128, 10)\n",
    "\n",
    "    def forward(self, x):\n",
    "        x = self.conv1(x)\n",
    "        x = F.relu(x)\n",
    "        x = self.conv2(x)\n",
    "        x = F.relu(x)\n",
    "        x = F.max_pool2d(x, 2)\n",
    "        x = self.dropout1(x)\n",
    "        x = torch.flatten(x, 1)\n",
    "        x = self.fc1(x)\n",
    "        x = F.relu(x)\n",
    "        x = self.dropout2(x)\n",
    "        x = self.fc2(x)\n",
    "        output = F.log_softmax(x, dim=1)\n",
    "        return output\n",
    "\n",
    "\n",
    "def train(model, device, train_loader, optimizer, epoch, dry_run=True, log_interval=10):\n",
    "    model.train()\n",
    "    for batch_idx, (data, target) in enumerate(train_loader):\n",
    "        data, target = data.to(device), target.to(device)\n",
    "        optimizer.zero_grad()\n",
    "        output = model(data)\n",
    "        loss = F.nll_loss(output, target)\n",
    "        loss.backward()\n",
    "        optimizer.step()\n",
    "        if batch_idx % log_interval == 0:\n",
    "            print('Train Epoch: {} [{}/{} ({:.0f}%)]\\tLoss: {:.6f}'.format(\n",
    "                epoch, batch_idx * len(data), len(train_loader.dataset),\n",
    "                100. * batch_idx / len(train_loader), loss.item()))\n",
    "            if dry_run:\n",
    "                break\n",
    "\n",
    "\n",
    "def test(model, device, test_loader):\n",
    "    model.eval()\n",
    "    test_loss = 0\n",
    "    correct = 0\n",
    "    with torch.no_grad():\n",
    "        for data, target in test_loader:\n",
    "            data, target = data.to(device), target.to(device)\n",
    "            output = model(data)\n",
    "            test_loss += F.nll_loss(output, target, reduction='sum').item()  # sum up batch loss\n",
    "            pred = output.argmax(dim=1, keepdim=True)  # get the index of the max log-probability\n",
    "            correct += pred.eq(target.view_as(pred)).sum().item()\n",
    "\n",
    "    test_loss /= len(test_loader.dataset)\n",
    "\n",
    "    print('\\nTest set: Average loss: {:.4f}, Accuracy: {}/{} ({:.0f}%)\\n'.format(\n",
    "        test_loss, correct, len(test_loader.dataset),\n",
    "        100. * correct / len(test_loader.dataset)))"
   ]
  },
  {
   "cell_type": "markdown",
   "id": "72651d88",
   "metadata": {},
   "source": [
    "### Load Dataset"
   ]
  },
  {
   "cell_type": "code",
   "execution_count": 3,
   "id": "d1affeb6",
   "metadata": {},
   "outputs": [],
   "source": [
    "transform=transforms.Compose([\n",
    "        transforms.ToTensor(),\n",
    "        transforms.Normalize((0.1307,), (0.3081,))\n",
    "        ])\n",
    "\n",
    "train_dataset = datasets.MNIST('../data', train=True, download=True, transform = transform)\n",
    "test_dataset = datasets.MNIST('../data', train=False, transform = transform)    "
   ]
  },
  {
   "cell_type": "code",
   "execution_count": 4,
   "id": "424cac4e",
   "metadata": {},
   "outputs": [
    {
     "data": {
      "text/plain": [
       "60000"
      ]
     },
     "execution_count": 4,
     "metadata": {},
     "output_type": "execute_result"
    }
   ],
   "source": [
    "len(train_dataset)"
   ]
  },
  {
   "cell_type": "code",
   "execution_count": 5,
   "id": "441f830c",
   "metadata": {},
   "outputs": [
    {
     "data": {
      "text/plain": [
       "10000"
      ]
     },
     "execution_count": 5,
     "metadata": {},
     "output_type": "execute_result"
    }
   ],
   "source": [
    "len(test_dataset)"
   ]
  },
  {
   "cell_type": "markdown",
   "id": "70dfd0e3",
   "metadata": {},
   "source": [
    "### Train"
   ]
  },
  {
   "cell_type": "code",
   "execution_count": 6,
   "id": "8a9ebd5c",
   "metadata": {},
   "outputs": [],
   "source": [
    "# if torch.cuda.is_available:\n",
    "#    device = (\"cuda\")\n",
    "# else:\n",
    "device = (\"cpu\")\n",
    "batch_size = 64\n",
    "learning_rate = 1.0\n",
    "gamma = 0.7\n",
    "epochs = 15"
   ]
  },
  {
   "cell_type": "code",
   "execution_count": 7,
   "id": "86c7ba97",
   "metadata": {},
   "outputs": [],
   "source": [
    "train_loader = torch.utils.data.DataLoader(train_dataset, batch_size)\n",
    "test_loader = torch.utils.data.DataLoader(test_dataset, batch_size)"
   ]
  },
  {
   "cell_type": "code",
   "execution_count": 8,
   "id": "c58c3383",
   "metadata": {},
   "outputs": [],
   "source": [
    "model = Net().to(device)\n",
    "optimizer = optim.Adadelta(model.parameters(), lr=learning_rate)\n",
    "scheduler = StepLR(optimizer, step_size=1, gamma=gamma)"
   ]
  },
  {
   "cell_type": "code",
   "execution_count": 9,
   "id": "81b1656b",
   "metadata": {},
   "outputs": [
    {
     "name": "stdout",
     "output_type": "stream",
     "text": [
      "Train Epoch: 1 [0/60000 (0%)]\tLoss: 2.300351\n",
      "\n",
      "Test set: Average loss: 2.2826, Accuracy: 2251/10000 (23%)\n",
      "\n",
      "Train Epoch: 2 [0/60000 (0%)]\tLoss: 2.067795\n",
      "\n",
      "Test set: Average loss: 2.0328, Accuracy: 3538/10000 (35%)\n",
      "\n",
      "Train Epoch: 3 [0/60000 (0%)]\tLoss: 1.879444\n",
      "\n",
      "Test set: Average loss: 1.8773, Accuracy: 3781/10000 (38%)\n",
      "\n",
      "Train Epoch: 4 [0/60000 (0%)]\tLoss: 1.498722\n",
      "\n",
      "Test set: Average loss: 1.6416, Accuracy: 4917/10000 (49%)\n",
      "\n",
      "Train Epoch: 5 [0/60000 (0%)]\tLoss: 1.241429\n",
      "\n",
      "Test set: Average loss: 1.5172, Accuracy: 5091/10000 (51%)\n",
      "\n",
      "Train Epoch: 6 [0/60000 (0%)]\tLoss: 1.077310\n",
      "\n",
      "Test set: Average loss: 1.4221, Accuracy: 5429/10000 (54%)\n",
      "\n",
      "Train Epoch: 7 [0/60000 (0%)]\tLoss: 1.023719\n",
      "\n",
      "Test set: Average loss: 1.3488, Accuracy: 5844/10000 (58%)\n",
      "\n",
      "Train Epoch: 8 [0/60000 (0%)]\tLoss: 0.962732\n",
      "\n",
      "Test set: Average loss: 1.3241, Accuracy: 5882/10000 (59%)\n",
      "\n",
      "Train Epoch: 9 [0/60000 (0%)]\tLoss: 0.856613\n",
      "\n",
      "Test set: Average loss: 1.2990, Accuracy: 5955/10000 (60%)\n",
      "\n",
      "Train Epoch: 10 [0/60000 (0%)]\tLoss: 0.778844\n",
      "\n",
      "Test set: Average loss: 1.2845, Accuracy: 6012/10000 (60%)\n",
      "\n",
      "Train Epoch: 11 [0/60000 (0%)]\tLoss: 0.790395\n",
      "\n",
      "Test set: Average loss: 1.2738, Accuracy: 6029/10000 (60%)\n",
      "\n",
      "Train Epoch: 12 [0/60000 (0%)]\tLoss: 0.764152\n",
      "\n",
      "Test set: Average loss: 1.2624, Accuracy: 6083/10000 (61%)\n",
      "\n",
      "Train Epoch: 13 [0/60000 (0%)]\tLoss: 0.788032\n",
      "\n",
      "Test set: Average loss: 1.2591, Accuracy: 6100/10000 (61%)\n",
      "\n",
      "Train Epoch: 14 [0/60000 (0%)]\tLoss: 0.646228\n",
      "\n",
      "Test set: Average loss: 1.2534, Accuracy: 6128/10000 (61%)\n",
      "\n",
      "Train Epoch: 15 [0/60000 (0%)]\tLoss: 0.876470\n",
      "\n",
      "Test set: Average loss: 1.2503, Accuracy: 6132/10000 (61%)\n",
      "\n"
     ]
    }
   ],
   "source": [
    "for epoch in range(1, epochs + 1):\n",
    "    train(model, device, train_loader, optimizer, epoch)\n",
    "    test(model, device, test_loader)\n",
    "    scheduler.step()"
   ]
  },
  {
   "cell_type": "markdown",
   "id": "a10e56f9",
   "metadata": {},
   "source": [
    "### Save"
   ]
  },
  {
   "cell_type": "code",
   "execution_count": null,
   "id": "0ea71746",
   "metadata": {},
   "outputs": [],
   "source": []
  },
  {
   "cell_type": "code",
   "execution_count": 10,
   "id": "de6f9379",
   "metadata": {},
   "outputs": [
    {
     "name": "stdout",
     "output_type": "stream",
     "text": [
      "============= Diagnostic Run torch.onnx.export version 2.0.0+cu117 =============\n",
      "verbose: False, log level: Level.ERROR\n",
      "======================= 0 NONE 0 NOTE 0 WARNING 0 ERROR ========================\n",
      "\n"
     ]
    }
   ],
   "source": [
    "\n",
    "\n",
    "torch_input = torch.randn(1, 1, 28, 28)\n",
    "torch_model = Net()\n",
    "onnx_program = torch.onnx.export(torch_model, torch_input, \"mnist_model.onnx\", input_names=[\"input\"], output_names=[\"output\"])"
   ]
  },
  {
   "cell_type": "markdown",
   "id": "eb85b72a",
   "metadata": {},
   "source": [
    "### Load And Check"
   ]
  },
  {
   "cell_type": "code",
   "execution_count": 11,
   "id": "66a8aaff",
   "metadata": {},
   "outputs": [],
   "source": [
    "import onnx\n",
    "onnx_model = onnx.load(\"mnist_model.onnx\")\n",
    "onnx.checker.check_model(onnx_model)"
   ]
  },
  {
   "cell_type": "markdown",
   "id": "8afbf67d",
   "metadata": {},
   "source": [
    "### you may visualize the model with https://netron.app/"
   ]
  },
  {
   "cell_type": "code",
   "execution_count": null,
   "id": "6c9566f8",
   "metadata": {},
   "outputs": [],
   "source": []
  }
 ],
 "metadata": {
  "kernelspec": {
   "display_name": "Python 3 (ipykernel)",
   "language": "python",
   "name": "python3"
  },
  "language_info": {
   "codemirror_mode": {
    "name": "ipython",
    "version": 3
   },
   "file_extension": ".py",
   "mimetype": "text/x-python",
   "name": "python",
   "nbconvert_exporter": "python",
   "pygments_lexer": "ipython3",
   "version": "3.10.9"
  }
 },
 "nbformat": 4,
 "nbformat_minor": 5
}
